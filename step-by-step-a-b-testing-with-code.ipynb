{
 "cells": [
  {
   "cell_type": "markdown",
   "id": "982a64cf",
   "metadata": {
    "papermill": {
     "duration": 0.006848,
     "end_time": "2024-09-10T03:54:11.905144",
     "exception": false,
     "start_time": "2024-09-10T03:54:11.898296",
     "status": "completed"
    },
    "tags": []
   },
   "source": [
    "## Theory: \n",
    "\n",
    "A/B testing is a powerful method to compare two or more variants of a treatment (e.g., a webpage, an algorithm, etc.) to determine which one performs better. Here's a comprehensive guide on how to conduct A/B testing, including A/A testing, practical significance, guardrail metrics, network effects, and considerations for double-sided markets.\n",
    "\n",
    "### 1. **Define the Problem and Goals**\n",
    "   - **Example:** Your goal is to increase the average revenue per user (ARPU).\n",
    "   - **Primary Metric:** Average Revenue per User (ARPU).\n",
    "   - **Secondary Metrics:** Conversion Rate (CR), Time Spent on Page, etc.\n",
    "   - **Guardrail Metrics:** Metrics that you do not want to worsen (e.g., Bounce Rate, Cart Abandonment Rate).\n",
    "\n",
    "### 2. **Conduct A/A Testing**\n",
    "   - **Purpose:** A/A testing is used to ensure that your experiment setup is not biased and that randomization works as expected.\n",
    "   - **Steps:**\n",
    "     1. **Split your traffic:** Randomly divide users into two groups (A1 and A2), both seeing the current checkout page.\n",
    "     2. **Run the test:** Measure the metrics over a period.\n",
    "     3. **Check for Bias:** If both groups A1 and A2 show similar results, your randomization process is likely unbiased.\n",
    "   - **Metrics Analysis:** Conduct hypothesis testing (t-test) to compare the metrics from A1 and A2. The p-value should be high (usually > 0.05), indicating no significant difference.\n",
    "\n",
    "### 3. **Design the A/B Test**\n",
    "   - **Variant Creation:** Develop an alternative checkout page (Variant B).\n",
    "   - **Traffic Allocation:** Split users randomly into two groups:\n",
    "     - **Group A:** Control group sees the original page.\n",
    "     - **Group B:** Treatment group sees the new page.\n",
    "   - **Sample Size Calculation:** Determine the required sample size using the following inputs:\n",
    "     - **Baseline Conversion Rate (CR):** From historical data.\n",
    "     - **Minimum Detectable Effect (MDE):** The smallest improvement you want to detect (e.g., a 2% increase in CR).\n",
    "     - **Statistical Power (1 - β):** Typically set at 0.8 (80%).\n",
    "     - **Significance Level (α):** Typically set at 0.05.\n",
    "\n",
    "   - **Formula:** Mentioned Below\n",
    "\n",
    "### 4. **Set Alpha, Beta, and Practical Significance**\n",
    "   - **Alpha (α):** The probability of a Type I error (false positive). Set it to 0.05 for a 5% significance level.\n",
    "   - **Beta (β):** The probability of a Type II error (false negative). Commonly set to 0.2, giving 80% power.\n",
    "   - **Practical Significance:** Define the minimum effect size that is meaningful for your business (e.g., a 1% increase in ARPU might be financially significant).\n",
    "\n",
    "### 5. **Run the A/B Test**\n",
    "   - **Monitor Metrics:** Track both primary and secondary metrics in real-time.\n",
    "   - **Guardrail Metrics:** Ensure that guardrail metrics (e.g., bounce rate) do not degrade significantly.\n",
    "   - **Network Effects:** If your platform has network effects (e.g., user interactions in a social network), account for potential spillovers where changes in one group affect the other.\n",
    "   - **Double-Sided Market Considerations:** In markets with two user groups (e.g., buyers and sellers), ensure that changes on one side do not negatively impact the other.\n",
    "\n",
    "### 6. **Analyze the Results**\n",
    "   - **Hypothesis Testing:** Use a t-test or z-test to determine if the difference between Group A and Group B is statistically significant.\n",
    "     - **Null Hypothesis (H0):** There is no difference in ARPU between the original and new checkout pages.\n",
    "     - **Alternative Hypothesis (H1):** There is a difference in ARPU.\n",
    "   - **Confidence Interval:** Calculate the confidence interval for the difference in ARPU to understand the range of possible outcomes.\n",
    "   - **P-Value:** Compare the p-value to α (0.05). If p < 0.05, reject the null hypothesis, indicating that the difference is statistically significant.\n",
    "   - **Practical Significance:** Check if the observed difference meets the threshold for practical significance.\n",
    "\n",
    "### 7. **Consider Network and Market Effects**\n",
    "   - **Network Effects:** If applicable, check if the test influenced user interactions beyond the test group, which could bias results.\n",
    "   - **Double-Sided Market:** Ensure that changes beneficial to one side (e.g., buyers) do not negatively affect the other side (e.g., sellers).\n",
    "\n",
    "### 8. **Decide and Implement**\n",
    "   - **Go/No-Go Decision:** Based on statistical and practical significance, decide whether to implement the new variant.\n",
    "   - **Rollout Plan:** If Variant B is successful, decide on a gradual or full rollout.\n",
    "\n",
    "### 9. **Document and Share Findings**\n",
    "   - **Documentation:** Record the hypothesis, methodology, results, and decisions.\n",
    "   - **Presentation:** Share the results with stakeholders, emphasizing both the statistical significance and practical implications.\n",
    "\n",
    "### 10. **Post-Experiment Monitoring**\n",
    "   - **Monitor Performance:** After rolling out the winning variant, continue to monitor key metrics to ensure that the observed improvements persist over time."
   ]
  },
  {
   "cell_type": "code",
   "execution_count": 1,
   "id": "d89eadfd",
   "metadata": {
    "execution": {
     "iopub.execute_input": "2024-09-10T03:54:11.920295Z",
     "iopub.status.busy": "2024-09-10T03:54:11.919841Z",
     "iopub.status.idle": "2024-09-10T03:54:12.935942Z",
     "shell.execute_reply": "2024-09-10T03:54:12.934594Z"
    },
    "papermill": {
     "duration": 1.02712,
     "end_time": "2024-09-10T03:54:12.938992",
     "exception": false,
     "start_time": "2024-09-10T03:54:11.911872",
     "status": "completed"
    },
    "tags": []
   },
   "outputs": [
    {
     "name": "stdout",
     "output_type": "stream",
     "text": [
      "['ga-customer-revenue-prediction']\n"
     ]
    }
   ],
   "source": [
    "import os\n",
    "import json\n",
    "import numpy as np\n",
    "import pandas as pd\n",
    "\n",
    "def load_df(csv_path='/kaggle/input/ga-customer-revenue-prediction/train.csv', nrows=None):\n",
    "    JSON_COLUMNS = ['device', 'geoNetwork', 'totals', 'trafficSource']\n",
    "    \n",
    "    df = pd.read_csv(csv_path, \n",
    "                     converters={column: json.loads for column in JSON_COLUMNS}, \n",
    "                     dtype={'fullVisitorId': 'str'}, # Important!!\n",
    "                     nrows=nrows)\n",
    "    \n",
    "    for column in JSON_COLUMNS:\n",
    "        column_as_df = pd.json_normalize(df[column])\n",
    "        column_as_df.columns = [f\"{column}.{subcolumn}\" for subcolumn in column_as_df.columns]\n",
    "        df = df.drop(column, axis=1).merge(column_as_df, right_index=True, left_index=True)\n",
    "    print(f\"Loaded {os.path.basename(csv_path)}. Shape: {df.shape}\")\n",
    "    return df\n",
    "\n",
    "print(os.listdir(\"../input\"))"
   ]
  },
  {
   "cell_type": "code",
   "execution_count": 2,
   "id": "060c4c3e",
   "metadata": {
    "execution": {
     "iopub.execute_input": "2024-09-10T03:54:12.954765Z",
     "iopub.status.busy": "2024-09-10T03:54:12.954198Z",
     "iopub.status.idle": "2024-09-10T03:54:15.700558Z",
     "shell.execute_reply": "2024-09-10T03:54:15.699116Z"
    },
    "papermill": {
     "duration": 2.757665,
     "end_time": "2024-09-10T03:54:15.703410",
     "exception": false,
     "start_time": "2024-09-10T03:54:12.945745",
     "status": "completed"
    },
    "tags": []
   },
   "outputs": [
    {
     "name": "stdout",
     "output_type": "stream",
     "text": [
      "Loaded train.csv. Shape: (20000, 54)\n",
      "CPU times: user 2.16 s, sys: 198 ms, total: 2.36 s\n",
      "Wall time: 2.74 s\n"
     ]
    }
   ],
   "source": [
    "%%time\n",
    "df_small = load_df(nrows=20000)"
   ]
  },
  {
   "cell_type": "code",
   "execution_count": 3,
   "id": "4e28fc0e",
   "metadata": {
    "_cell_guid": "b1076dfc-b9ad-4769-8c92-a6c4dae69d19",
    "_uuid": "8f2839f25d086af736a60e9eeb907d3b93b6e0e5",
    "execution": {
     "iopub.execute_input": "2024-09-10T03:54:15.718671Z",
     "iopub.status.busy": "2024-09-10T03:54:15.718260Z",
     "iopub.status.idle": "2024-09-10T03:56:27.046472Z",
     "shell.execute_reply": "2024-09-10T03:56:27.045178Z"
    },
    "papermill": {
     "duration": 131.339674,
     "end_time": "2024-09-10T03:56:27.049915",
     "exception": false,
     "start_time": "2024-09-10T03:54:15.710241",
     "status": "completed"
    },
    "tags": []
   },
   "outputs": [
    {
     "name": "stdout",
     "output_type": "stream",
     "text": [
      "Loaded train.csv. Shape: (903653, 55)\n",
      "<class 'pandas.core.frame.DataFrame'>\n",
      "RangeIndex: 903653 entries, 0 to 903652\n",
      "Data columns (total 55 columns):\n",
      " #   Column                                             Non-Null Count   Dtype \n",
      "---  ------                                             --------------   ----- \n",
      " 0   channelGrouping                                    903653 non-null  object\n",
      " 1   date                                               903653 non-null  int64 \n",
      " 2   fullVisitorId                                      903653 non-null  object\n",
      " 3   sessionId                                          903653 non-null  object\n",
      " 4   socialEngagementType                               903653 non-null  object\n",
      " 5   visitId                                            903653 non-null  int64 \n",
      " 6   visitNumber                                        903653 non-null  int64 \n",
      " 7   visitStartTime                                     903653 non-null  int64 \n",
      " 8   device.browser                                     903653 non-null  object\n",
      " 9   device.browserVersion                              903653 non-null  object\n",
      " 10  device.browserSize                                 903653 non-null  object\n",
      " 11  device.operatingSystem                             903653 non-null  object\n",
      " 12  device.operatingSystemVersion                      903653 non-null  object\n",
      " 13  device.isMobile                                    903653 non-null  bool  \n",
      " 14  device.mobileDeviceBranding                        903653 non-null  object\n",
      " 15  device.mobileDeviceModel                           903653 non-null  object\n",
      " 16  device.mobileInputSelector                         903653 non-null  object\n",
      " 17  device.mobileDeviceInfo                            903653 non-null  object\n",
      " 18  device.mobileDeviceMarketingName                   903653 non-null  object\n",
      " 19  device.flashVersion                                903653 non-null  object\n",
      " 20  device.language                                    903653 non-null  object\n",
      " 21  device.screenColors                                903653 non-null  object\n",
      " 22  device.screenResolution                            903653 non-null  object\n",
      " 23  device.deviceCategory                              903653 non-null  object\n",
      " 24  geoNetwork.continent                               903653 non-null  object\n",
      " 25  geoNetwork.subContinent                            903653 non-null  object\n",
      " 26  geoNetwork.country                                 903653 non-null  object\n",
      " 27  geoNetwork.region                                  903653 non-null  object\n",
      " 28  geoNetwork.metro                                   903653 non-null  object\n",
      " 29  geoNetwork.city                                    903653 non-null  object\n",
      " 30  geoNetwork.cityId                                  903653 non-null  object\n",
      " 31  geoNetwork.networkDomain                           903653 non-null  object\n",
      " 32  geoNetwork.latitude                                903653 non-null  object\n",
      " 33  geoNetwork.longitude                               903653 non-null  object\n",
      " 34  geoNetwork.networkLocation                         903653 non-null  object\n",
      " 35  totals.visits                                      903653 non-null  object\n",
      " 36  totals.hits                                        903653 non-null  object\n",
      " 37  totals.pageviews                                   903553 non-null  object\n",
      " 38  totals.bounces                                     450630 non-null  object\n",
      " 39  totals.newVisits                                   703060 non-null  object\n",
      " 40  totals.transactionRevenue                          11515 non-null   object\n",
      " 41  trafficSource.campaign                             903653 non-null  object\n",
      " 42  trafficSource.source                               903653 non-null  object\n",
      " 43  trafficSource.medium                               903653 non-null  object\n",
      " 44  trafficSource.keyword                              400724 non-null  object\n",
      " 45  trafficSource.adwordsClickInfo.criteriaParameters  903653 non-null  object\n",
      " 46  trafficSource.isTrueDirect                         274005 non-null  object\n",
      " 47  trafficSource.referralPath                         330941 non-null  object\n",
      " 48  trafficSource.adwordsClickInfo.page                21460 non-null   object\n",
      " 49  trafficSource.adwordsClickInfo.slot                21460 non-null   object\n",
      " 50  trafficSource.adwordsClickInfo.gclId               21561 non-null   object\n",
      " 51  trafficSource.adwordsClickInfo.adNetworkType       21460 non-null   object\n",
      " 52  trafficSource.adwordsClickInfo.isVideoAd           21460 non-null   object\n",
      " 53  trafficSource.adContent                            10946 non-null   object\n",
      " 54  trafficSource.campaignCode                         1 non-null       object\n",
      "dtypes: bool(1), int64(4), object(50)\n",
      "memory usage: 373.2+ MB\n"
     ]
    },
    {
     "data": {
      "text/plain": [
       "None"
      ]
     },
     "metadata": {},
     "output_type": "display_data"
    },
    {
     "data": {
      "text/html": [
       "<div>\n",
       "<style scoped>\n",
       "    .dataframe tbody tr th:only-of-type {\n",
       "        vertical-align: middle;\n",
       "    }\n",
       "\n",
       "    .dataframe tbody tr th {\n",
       "        vertical-align: top;\n",
       "    }\n",
       "\n",
       "    .dataframe thead th {\n",
       "        text-align: right;\n",
       "    }\n",
       "</style>\n",
       "<table border=\"1\" class=\"dataframe\">\n",
       "  <thead>\n",
       "    <tr style=\"text-align: right;\">\n",
       "      <th></th>\n",
       "      <th>channelGrouping</th>\n",
       "      <th>date</th>\n",
       "      <th>fullVisitorId</th>\n",
       "      <th>sessionId</th>\n",
       "      <th>socialEngagementType</th>\n",
       "      <th>visitId</th>\n",
       "      <th>visitNumber</th>\n",
       "      <th>visitStartTime</th>\n",
       "      <th>device.browser</th>\n",
       "      <th>device.browserVersion</th>\n",
       "      <th>...</th>\n",
       "      <th>trafficSource.adwordsClickInfo.criteriaParameters</th>\n",
       "      <th>trafficSource.isTrueDirect</th>\n",
       "      <th>trafficSource.referralPath</th>\n",
       "      <th>trafficSource.adwordsClickInfo.page</th>\n",
       "      <th>trafficSource.adwordsClickInfo.slot</th>\n",
       "      <th>trafficSource.adwordsClickInfo.gclId</th>\n",
       "      <th>trafficSource.adwordsClickInfo.adNetworkType</th>\n",
       "      <th>trafficSource.adwordsClickInfo.isVideoAd</th>\n",
       "      <th>trafficSource.adContent</th>\n",
       "      <th>trafficSource.campaignCode</th>\n",
       "    </tr>\n",
       "  </thead>\n",
       "  <tbody>\n",
       "    <tr>\n",
       "      <th>0</th>\n",
       "      <td>Organic Search</td>\n",
       "      <td>20160902</td>\n",
       "      <td>1131660440785968503</td>\n",
       "      <td>1131660440785968503_1472830385</td>\n",
       "      <td>Not Socially Engaged</td>\n",
       "      <td>1472830385</td>\n",
       "      <td>1</td>\n",
       "      <td>1472830385</td>\n",
       "      <td>Chrome</td>\n",
       "      <td>not available in demo dataset</td>\n",
       "      <td>...</td>\n",
       "      <td>not available in demo dataset</td>\n",
       "      <td>NaN</td>\n",
       "      <td>NaN</td>\n",
       "      <td>NaN</td>\n",
       "      <td>NaN</td>\n",
       "      <td>NaN</td>\n",
       "      <td>NaN</td>\n",
       "      <td>NaN</td>\n",
       "      <td>NaN</td>\n",
       "      <td>NaN</td>\n",
       "    </tr>\n",
       "    <tr>\n",
       "      <th>1</th>\n",
       "      <td>Organic Search</td>\n",
       "      <td>20160902</td>\n",
       "      <td>377306020877927890</td>\n",
       "      <td>377306020877927890_1472880147</td>\n",
       "      <td>Not Socially Engaged</td>\n",
       "      <td>1472880147</td>\n",
       "      <td>1</td>\n",
       "      <td>1472880147</td>\n",
       "      <td>Firefox</td>\n",
       "      <td>not available in demo dataset</td>\n",
       "      <td>...</td>\n",
       "      <td>not available in demo dataset</td>\n",
       "      <td>NaN</td>\n",
       "      <td>NaN</td>\n",
       "      <td>NaN</td>\n",
       "      <td>NaN</td>\n",
       "      <td>NaN</td>\n",
       "      <td>NaN</td>\n",
       "      <td>NaN</td>\n",
       "      <td>NaN</td>\n",
       "      <td>NaN</td>\n",
       "    </tr>\n",
       "    <tr>\n",
       "      <th>2</th>\n",
       "      <td>Organic Search</td>\n",
       "      <td>20160902</td>\n",
       "      <td>3895546263509774583</td>\n",
       "      <td>3895546263509774583_1472865386</td>\n",
       "      <td>Not Socially Engaged</td>\n",
       "      <td>1472865386</td>\n",
       "      <td>1</td>\n",
       "      <td>1472865386</td>\n",
       "      <td>Chrome</td>\n",
       "      <td>not available in demo dataset</td>\n",
       "      <td>...</td>\n",
       "      <td>not available in demo dataset</td>\n",
       "      <td>NaN</td>\n",
       "      <td>NaN</td>\n",
       "      <td>NaN</td>\n",
       "      <td>NaN</td>\n",
       "      <td>NaN</td>\n",
       "      <td>NaN</td>\n",
       "      <td>NaN</td>\n",
       "      <td>NaN</td>\n",
       "      <td>NaN</td>\n",
       "    </tr>\n",
       "    <tr>\n",
       "      <th>3</th>\n",
       "      <td>Organic Search</td>\n",
       "      <td>20160902</td>\n",
       "      <td>4763447161404445595</td>\n",
       "      <td>4763447161404445595_1472881213</td>\n",
       "      <td>Not Socially Engaged</td>\n",
       "      <td>1472881213</td>\n",
       "      <td>1</td>\n",
       "      <td>1472881213</td>\n",
       "      <td>UC Browser</td>\n",
       "      <td>not available in demo dataset</td>\n",
       "      <td>...</td>\n",
       "      <td>not available in demo dataset</td>\n",
       "      <td>NaN</td>\n",
       "      <td>NaN</td>\n",
       "      <td>NaN</td>\n",
       "      <td>NaN</td>\n",
       "      <td>NaN</td>\n",
       "      <td>NaN</td>\n",
       "      <td>NaN</td>\n",
       "      <td>NaN</td>\n",
       "      <td>NaN</td>\n",
       "    </tr>\n",
       "    <tr>\n",
       "      <th>4</th>\n",
       "      <td>Organic Search</td>\n",
       "      <td>20160902</td>\n",
       "      <td>27294437909732085</td>\n",
       "      <td>27294437909732085_1472822600</td>\n",
       "      <td>Not Socially Engaged</td>\n",
       "      <td>1472822600</td>\n",
       "      <td>2</td>\n",
       "      <td>1472822600</td>\n",
       "      <td>Chrome</td>\n",
       "      <td>not available in demo dataset</td>\n",
       "      <td>...</td>\n",
       "      <td>not available in demo dataset</td>\n",
       "      <td>True</td>\n",
       "      <td>NaN</td>\n",
       "      <td>NaN</td>\n",
       "      <td>NaN</td>\n",
       "      <td>NaN</td>\n",
       "      <td>NaN</td>\n",
       "      <td>NaN</td>\n",
       "      <td>NaN</td>\n",
       "      <td>NaN</td>\n",
       "    </tr>\n",
       "  </tbody>\n",
       "</table>\n",
       "<p>5 rows × 55 columns</p>\n",
       "</div>"
      ],
      "text/plain": [
       "  channelGrouping      date        fullVisitorId  \\\n",
       "0  Organic Search  20160902  1131660440785968503   \n",
       "1  Organic Search  20160902   377306020877927890   \n",
       "2  Organic Search  20160902  3895546263509774583   \n",
       "3  Organic Search  20160902  4763447161404445595   \n",
       "4  Organic Search  20160902    27294437909732085   \n",
       "\n",
       "                        sessionId  socialEngagementType     visitId  \\\n",
       "0  1131660440785968503_1472830385  Not Socially Engaged  1472830385   \n",
       "1   377306020877927890_1472880147  Not Socially Engaged  1472880147   \n",
       "2  3895546263509774583_1472865386  Not Socially Engaged  1472865386   \n",
       "3  4763447161404445595_1472881213  Not Socially Engaged  1472881213   \n",
       "4    27294437909732085_1472822600  Not Socially Engaged  1472822600   \n",
       "\n",
       "   visitNumber  visitStartTime device.browser          device.browserVersion  \\\n",
       "0            1      1472830385         Chrome  not available in demo dataset   \n",
       "1            1      1472880147        Firefox  not available in demo dataset   \n",
       "2            1      1472865386         Chrome  not available in demo dataset   \n",
       "3            1      1472881213     UC Browser  not available in demo dataset   \n",
       "4            2      1472822600         Chrome  not available in demo dataset   \n",
       "\n",
       "   ... trafficSource.adwordsClickInfo.criteriaParameters  \\\n",
       "0  ...                     not available in demo dataset   \n",
       "1  ...                     not available in demo dataset   \n",
       "2  ...                     not available in demo dataset   \n",
       "3  ...                     not available in demo dataset   \n",
       "4  ...                     not available in demo dataset   \n",
       "\n",
       "  trafficSource.isTrueDirect trafficSource.referralPath  \\\n",
       "0                        NaN                        NaN   \n",
       "1                        NaN                        NaN   \n",
       "2                        NaN                        NaN   \n",
       "3                        NaN                        NaN   \n",
       "4                       True                        NaN   \n",
       "\n",
       "   trafficSource.adwordsClickInfo.page trafficSource.adwordsClickInfo.slot  \\\n",
       "0                                  NaN                                 NaN   \n",
       "1                                  NaN                                 NaN   \n",
       "2                                  NaN                                 NaN   \n",
       "3                                  NaN                                 NaN   \n",
       "4                                  NaN                                 NaN   \n",
       "\n",
       "  trafficSource.adwordsClickInfo.gclId  \\\n",
       "0                                  NaN   \n",
       "1                                  NaN   \n",
       "2                                  NaN   \n",
       "3                                  NaN   \n",
       "4                                  NaN   \n",
       "\n",
       "  trafficSource.adwordsClickInfo.adNetworkType  \\\n",
       "0                                          NaN   \n",
       "1                                          NaN   \n",
       "2                                          NaN   \n",
       "3                                          NaN   \n",
       "4                                          NaN   \n",
       "\n",
       "  trafficSource.adwordsClickInfo.isVideoAd trafficSource.adContent  \\\n",
       "0                                      NaN                     NaN   \n",
       "1                                      NaN                     NaN   \n",
       "2                                      NaN                     NaN   \n",
       "3                                      NaN                     NaN   \n",
       "4                                      NaN                     NaN   \n",
       "\n",
       "  trafficSource.campaignCode  \n",
       "0                        NaN  \n",
       "1                        NaN  \n",
       "2                        NaN  \n",
       "3                        NaN  \n",
       "4                        NaN  \n",
       "\n",
       "[5 rows x 55 columns]"
      ]
     },
     "metadata": {},
     "output_type": "display_data"
    }
   ],
   "source": [
    "import pandas as pd\n",
    "\n",
    "# Load the dataset (assuming it's downloaded and extracted)\n",
    "df = load_df()\n",
    "\n",
    "df_raw = df.copy()\n",
    "\n",
    "# Display basic information\n",
    "display(df.info())\n",
    "display(df.head())\n",
    "\n",
    "# Convert transactionRevenue to float and fill NaNs with 0\n",
    "df['totals.transactionRevenue'] = df['totals.transactionRevenue'].astype(float).fillna(0)\n",
    "\n",
    "# Create a new column for revenue in USD\n",
    "df['revenue'] = df['totals.transactionRevenue'] / 1e6  # Convert micro-units to USD"
   ]
  },
  {
   "cell_type": "code",
   "execution_count": 4,
   "id": "afbcba3f",
   "metadata": {
    "execution": {
     "iopub.execute_input": "2024-09-10T03:56:27.068219Z",
     "iopub.status.busy": "2024-09-10T03:56:27.067038Z",
     "iopub.status.idle": "2024-09-10T03:56:27.321831Z",
     "shell.execute_reply": "2024-09-10T03:56:27.320703Z"
    },
    "papermill": {
     "duration": 0.266701,
     "end_time": "2024-09-10T03:56:27.324512",
     "exception": false,
     "start_time": "2024-09-10T03:56:27.057811",
     "status": "completed"
    },
    "tags": []
   },
   "outputs": [
    {
     "data": {
      "text/plain": [
       "geoNetwork.city\n",
       "not available in demo dataset    508229\n",
       "Mountain View                     40884\n",
       "(not set)                         34262\n",
       "New York                          26371\n",
       "San Francisco                     20329\n",
       "Name: count, dtype: int64"
      ]
     },
     "execution_count": 4,
     "metadata": {},
     "output_type": "execute_result"
    }
   ],
   "source": [
    "df['geoNetwork.city'].value_counts().head()"
   ]
  },
  {
   "cell_type": "code",
   "execution_count": 5,
   "id": "3dfd8859",
   "metadata": {
    "execution": {
     "iopub.execute_input": "2024-09-10T03:56:27.341849Z",
     "iopub.status.busy": "2024-09-10T03:56:27.341447Z",
     "iopub.status.idle": "2024-09-10T03:56:27.953098Z",
     "shell.execute_reply": "2024-09-10T03:56:27.951428Z"
    },
    "papermill": {
     "duration": 0.623765,
     "end_time": "2024-09-10T03:56:27.956066",
     "exception": false,
     "start_time": "2024-09-10T03:56:27.332301",
     "status": "completed"
    },
    "tags": []
   },
   "outputs": [],
   "source": [
    "df_analyze = df[df['geoNetwork.city'].isin(['Mountain View', 'San Francisco'])].copy()"
   ]
  },
  {
   "cell_type": "code",
   "execution_count": 6,
   "id": "8af1c797",
   "metadata": {
    "execution": {
     "iopub.execute_input": "2024-09-10T03:56:27.973569Z",
     "iopub.status.busy": "2024-09-10T03:56:27.973167Z",
     "iopub.status.idle": "2024-09-10T03:56:29.250787Z",
     "shell.execute_reply": "2024-09-10T03:56:29.249386Z"
    },
    "papermill": {
     "duration": 1.289843,
     "end_time": "2024-09-10T03:56:29.253775",
     "exception": false,
     "start_time": "2024-09-10T03:56:27.963932",
     "status": "completed"
    },
    "tags": []
   },
   "outputs": [
    {
     "name": "stdout",
     "output_type": "stream",
     "text": [
      "Mean Revenue Group A1: 3.871235378683918\n",
      "Mean Revenue Group A2: 3.5447645963341716\n",
      "P-Value: 0.5222025728626474\n",
      "No significant difference between A1 and A2. Randomization is working.\n"
     ]
    }
   ],
   "source": [
    "from scipy.stats import ttest_ind\n",
    "\n",
    "# Randomly split the data into two groups\n",
    "group_A1 = df_analyze.sample(frac=0.5, random_state=1)\n",
    "group_A2 = df_analyze.drop(group_A1.index)\n",
    "\n",
    "# Calculate mean revenue for both groups\n",
    "mean_A1 = group_A1['revenue'].mean()\n",
    "mean_A2 = group_A2['revenue'].mean()\n",
    "\n",
    "# Perform a t-test\n",
    "t_stat, p_value = ttest_ind(group_A1['revenue'], group_A2['revenue'], equal_var=False)\n",
    "\n",
    "print(f\"Mean Revenue Group A1: {mean_A1}\")\n",
    "print(f\"Mean Revenue Group A2: {mean_A2}\")\n",
    "print(f\"P-Value: {p_value}\")\n",
    "\n",
    "# Check if p-value > 0.05\n",
    "if p_value > 0.05:\n",
    "    print(\"No significant difference between A1 and A2. Randomization is working.\")\n",
    "else:\n",
    "    print(\"Significant difference found. Randomization may be biased.\")"
   ]
  },
  {
   "cell_type": "code",
   "execution_count": 7,
   "id": "460dfb9d",
   "metadata": {
    "execution": {
     "iopub.execute_input": "2024-09-10T03:56:29.271879Z",
     "iopub.status.busy": "2024-09-10T03:56:29.271488Z",
     "iopub.status.idle": "2024-09-10T03:56:29.397444Z",
     "shell.execute_reply": "2024-09-10T03:56:29.396086Z"
    },
    "papermill": {
     "duration": 0.138501,
     "end_time": "2024-09-10T03:56:29.400513",
     "exception": false,
     "start_time": "2024-09-10T03:56:29.262012",
     "status": "completed"
    },
    "tags": []
   },
   "outputs": [],
   "source": [
    "import numpy as np\n",
    "\n",
    "# Create a random binary flag for variant B (1 means user sees the new variant)\n",
    "df_analyze['variant_B'] = (df_analyze['geoNetwork.city']=='San Francisco')\n",
    "\n",
    "# Split data into control (A) and treatment (B) groups\n",
    "control_group = df_analyze[df_analyze['variant_B']]\n",
    "treatment_group = df_analyze[~df_analyze['variant_B']]"
   ]
  },
  {
   "cell_type": "code",
   "execution_count": 8,
   "id": "a4fe24b5",
   "metadata": {
    "execution": {
     "iopub.execute_input": "2024-09-10T03:56:29.418271Z",
     "iopub.status.busy": "2024-09-10T03:56:29.417878Z",
     "iopub.status.idle": "2024-09-10T03:56:29.918114Z",
     "shell.execute_reply": "2024-09-10T03:56:29.916755Z"
    },
    "papermill": {
     "duration": 0.512259,
     "end_time": "2024-09-10T03:56:29.920886",
     "exception": false,
     "start_time": "2024-09-10T03:56:29.408627",
     "status": "completed"
    },
    "tags": []
   },
   "outputs": [
    {
     "name": "stdout",
     "output_type": "stream",
     "text": [
      "Required sample size per group: 42606\n"
     ]
    }
   ],
   "source": [
    "import statsmodels.stats.api as sms\n",
    "\n",
    "# Baseline conversion rate (from historical data)\n",
    "baseline_cr = 0.01  # Example value\n",
    "\n",
    "# Minimum Detectable Effect (MDE)\n",
    "mde = 0.002  # 2% increase in conversion rate\n",
    "\n",
    "# Significance level (alpha)\n",
    "alpha = 0.05\n",
    "\n",
    "# Power (1 - beta)\n",
    "power = 0.8\n",
    "\n",
    "# Calculate sample size\n",
    "sample_size = sms.NormalIndPower().solve_power(\n",
    "    effect_size=sms.proportion_effectsize(baseline_cr, baseline_cr + mde),\n",
    "    power=power, alpha=alpha, ratio=1)\n",
    "print(f\"Required sample size per group: {int(sample_size)}\")"
   ]
  },
  {
   "cell_type": "code",
   "execution_count": 9,
   "id": "16ba5a53",
   "metadata": {
    "execution": {
     "iopub.execute_input": "2024-09-10T03:56:29.939632Z",
     "iopub.status.busy": "2024-09-10T03:56:29.939245Z",
     "iopub.status.idle": "2024-09-10T03:56:29.952021Z",
     "shell.execute_reply": "2024-09-10T03:56:29.950509Z"
    },
    "papermill": {
     "duration": 0.025968,
     "end_time": "2024-09-10T03:56:29.954999",
     "exception": false,
     "start_time": "2024-09-10T03:56:29.929031",
     "status": "completed"
    },
    "tags": []
   },
   "outputs": [
    {
     "name": "stdout",
     "output_type": "stream",
     "text": [
      "Mean Revenue Control Group: 4.962071916965911\n",
      "Mean Revenue Treatment Group: 3.0844261813912532\n",
      "P-Value: 0.0020743849379079153\n",
      "Significant difference detected between control and treatment.\n"
     ]
    }
   ],
   "source": [
    "# Calculate mean revenue for both groups\n",
    "mean_control = control_group['revenue'].mean()\n",
    "mean_treatment = treatment_group['revenue'].mean()\n",
    "\n",
    "# Perform a t-test\n",
    "t_stat, p_value = ttest_ind(control_group['revenue'], treatment_group['revenue'], equal_var=False)\n",
    "\n",
    "print(f\"Mean Revenue Control Group: {mean_control}\")\n",
    "print(f\"Mean Revenue Treatment Group: {mean_treatment}\")\n",
    "print(f\"P-Value: {p_value}\")\n",
    "\n",
    "# Check if the result is statistically significant\n",
    "if p_value < alpha:\n",
    "    print(\"Significant difference detected between control and treatment.\")\n",
    "else:\n",
    "    print(\"No significant difference detected between control and treatment.\")"
   ]
  },
  {
   "cell_type": "code",
   "execution_count": 10,
   "id": "26b9bef9",
   "metadata": {
    "execution": {
     "iopub.execute_input": "2024-09-10T03:56:29.973238Z",
     "iopub.status.busy": "2024-09-10T03:56:29.972816Z",
     "iopub.status.idle": "2024-09-10T03:56:29.980064Z",
     "shell.execute_reply": "2024-09-10T03:56:29.978747Z"
    },
    "papermill": {
     "duration": 0.01988,
     "end_time": "2024-09-10T03:56:29.983033",
     "exception": false,
     "start_time": "2024-09-10T03:56:29.963153",
     "status": "completed"
    },
    "tags": []
   },
   "outputs": [
    {
     "name": "stdout",
     "output_type": "stream",
     "text": [
      "Observed Difference: -1.8776457355746579\n",
      "The observed difference is not practically significant.\n"
     ]
    }
   ],
   "source": [
    "# Define practical significance threshold (e.g., $1 increase in ARPU)\n",
    "practical_threshold = 1.0\n",
    "\n",
    "# Calculate the observed effect size\n",
    "observed_difference = mean_treatment - mean_control\n",
    "\n",
    "print(f\"Observed Difference: {observed_difference}\")\n",
    "\n",
    "if observed_difference > practical_threshold:\n",
    "    print(\"The observed difference is practically significant.\")\n",
    "else:\n",
    "    print(\"The observed difference is not practically significant.\")"
   ]
  },
  {
   "attachments": {
    "1a78971a-1655-4380-a7e0-0b4f05e09710.png": {
     "image/png": "[encoded data removed]"
    },
    "a632d4e6-c620-40fc-a20c-c500b44d777f.png": {
     "image/png": "[encoded data removed]"
    }
   },
   "cell_type": "markdown",
   "id": "12a93029",
   "metadata": {
    "execution": {
     "iopub.execute_input": "2024-08-20T02:25:29.71549Z",
     "iopub.status.busy": "2024-08-20T02:25:29.71502Z",
     "iopub.status.idle": "2024-08-20T02:25:29.752169Z",
     "shell.execute_reply": "2024-08-20T02:25:29.750164Z",
     "shell.execute_reply.started": "2024-08-20T02:25:29.715452Z"
    },
    "papermill": {
     "duration": 0.00776,
     "end_time": "2024-09-10T03:56:29.998926",
     "exception": false,
     "start_time": "2024-09-10T03:56:29.991166",
     "status": "completed"
    },
    "tags": []
   },
   "source": [
    "The minimum sample size calculation is a crucial step in designing an A/B test (or any hypothesis test) to ensure that the test has enough power to detect a true effect, if one exists. Here's how the minimum sample size is calculated:\n",
    "\n",
    "### **Key Concepts**\n",
    "\n",
    "1. **Baseline Conversion Rate (CR₀):**\n",
    "   - The existing conversion rate or metric value before any changes. For example, if 10% of users currently convert, then CR₀ = 0.10.\n",
    "\n",
    "2. **Minimum Detectable Effect (MDE):**\n",
    "   - The smallest change in the metric that you want to be able to detect with statistical significance. For example, if you want to detect at least a 2% increase in conversion, then MDE = 0.02.\n",
    "\n",
    "3. **Significance Level (α):**\n",
    "   - The probability of rejecting the null hypothesis when it is actually true (Type I error). Commonly set at 0.05, which corresponds to a 5% chance of a false positive.\n",
    "\n",
    "4. **Statistical Power (1 - β):**\n",
    "   - The probability of correctly rejecting the null hypothesis when it is false (i.e., detecting a true effect). A power of 0.8 (80%) is commonly used.\n",
    "\n",
    "5. **Effect Size:**\n",
    "   - A standardized measure of the difference between the control and treatment groups. It is calculated using the baseline conversion rate and the minimum detectable effect.\n",
    "\n",
    "### **Effect Size Calculation**\n",
    "\n",
    "The effect size for a proportion (like a conversion rate) is calculated using the formula:\n",
    "\n",
    "![image.png](attachment:a632d4e6-c620-40fc-a20c-c500b44d777f.png)\n",
    "\n",
    "### **Sample Size Calculation Formula**\n",
    "\n",
    "The sample size per group in an A/B test can be calculated using the following formula:\n",
    "\n",
    "![image.png](attachment:1a78971a-1655-4380-a7e0-0b4f05e09710.png)\n",
    "\n",
    "\n",
    "This will output the minimum sample size required for each group (control and treatment) to detect the specified MDE with the given power and significance level."
   ]
  },
  {
   "cell_type": "code",
   "execution_count": 11,
   "id": "0fa9d5be",
   "metadata": {
    "execution": {
     "iopub.execute_input": "2024-09-10T03:56:30.016994Z",
     "iopub.status.busy": "2024-09-10T03:56:30.016582Z",
     "iopub.status.idle": "2024-09-10T03:56:30.037636Z",
     "shell.execute_reply": "2024-09-10T03:56:30.036375Z"
    },
    "papermill": {
     "duration": 0.033264,
     "end_time": "2024-09-10T03:56:30.040266",
     "exception": false,
     "start_time": "2024-09-10T03:56:30.007002",
     "status": "completed"
    },
    "tags": []
   },
   "outputs": [
    {
     "name": "stdout",
     "output_type": "stream",
     "text": [
      "Required sample size per group: 3834\n"
     ]
    }
   ],
   "source": [
    "import statsmodels.stats.api as sms\n",
    "\n",
    "# Define the parameters\n",
    "baseline_cr = 0.10  # Baseline conversion rate (CR₀)\n",
    "mde = 0.02  # Minimum Detectable Effect (MDE)\n",
    "alpha = 0.05  # Significance level\n",
    "power = 0.8  # Power\n",
    "\n",
    "# Calculate the effect size\n",
    "effect_size = sms.proportion_effectsize(baseline_cr, baseline_cr + mde)\n",
    "\n",
    "# Calculate the required sample size\n",
    "sample_size = sms.NormalIndPower().solve_power(effect_size=effect_size, \n",
    "                                               power=power, \n",
    "                                               alpha=alpha, \n",
    "                                               ratio=1)  # Assuming equal-sized groups\n",
    "\n",
    "print(f\"Required sample size per group: {int(sample_size)}\")"
   ]
  },
  {
   "cell_type": "markdown",
   "id": "e81d9fdd",
   "metadata": {
    "papermill": {
     "duration": 0.007911,
     "end_time": "2024-09-10T03:56:30.056482",
     "exception": false,
     "start_time": "2024-09-10T03:56:30.048571",
     "status": "completed"
    },
    "tags": []
   },
   "source": [
    "### **Interpretation**\n",
    "\n",
    "- **Why is sample size important?** If your sample size is too small, your test might not detect a true difference (leading to a Type II error). If it’s too large, you may waste resources or detect insignificant differences as statistically significant.\n",
    "  \n",
    "- **What affects sample size?** Higher baseline conversion rates, smaller detectable effects, lower significance levels, and higher power all increase the required sample size.\n",
    "\n",
    "Understanding and correctly calculating the minimum sample size is essential to ensure that your A/B test results are reliable and actionable."
   ]
  }
 ],
 "metadata": {
  "kaggle": {
   "accelerator": "none",
   "dataSources": [
    {
     "databundleVersionId": 180088,
     "sourceId": 10038,
     "sourceType": "competition"
    }
   ],
   "dockerImageVersionId": 30747,
   "isGpuEnabled": false,
   "isInternetEnabled": true,
   "language": "python",
   "sourceType": "notebook"
  },
  "kernelspec": {
   "display_name": "Python 3",
   "language": "python",
   "name": "python3"
  },
  "language_info": {
   "codemirror_mode": {
    "name": "ipython",
    "version": 3
   },
   "file_extension": ".py",
   "mimetype": "text/x-python",
   "name": "python",
   "nbconvert_exporter": "python",
   "pygments_lexer": "ipython3",
   "version": "3.10.13"
  },
  "papermill": {
   "default_parameters": {},
   "duration": 144.860816,
   "end_time": "2024-09-10T03:56:33.087565",
   "environment_variables": {},
   "exception": null,
   "input_path": "__notebook__.ipynb",
   "output_path": "__notebook__.ipynb",
   "parameters": {},
   "start_time": "2024-09-10T03:54:08.226749",
   "version": "2.5.0"
  }
 },
 "nbformat": 4,
 "nbformat_minor": 5
}
